{
 "cells": [
  {
   "cell_type": "code",
   "execution_count": 4,
   "id": "a15e8368-8bca-4e6e-a788-3b5d5a363da7",
   "metadata": {},
   "outputs": [],
   "source": [
    "# Import required libraries\n",
    "import tensorflow as tf\n",
    "import numpy as np\n",
    "import matplotlib.pyplot as plt\n",
    "from tensorflow.keras.preprocessing.text import Tokenizer\n",
    "from tensorflow.keras.preprocessing.sequence import pad_sequences"
   ]
  },
  {
   "cell_type": "code",
   "execution_count": 8,
   "id": "e6d4f4d4-68ce-46a7-9188-9442bf05c94b",
   "metadata": {},
   "outputs": [],
   "source": [
    "# Load data from a file\n",
    "def load_data(file_path):\n",
    "    with open(file_path, \"r\") as file:\n",
    "        return file.readlines()\n",
    "\n",
    "# Load datasets\n",
    "train_file = \"C:/Users/Prakash/OneDrive/Desktop/Project/emotion/train.txt\"\n",
    "val_file = \"C:/Users/Prakash/OneDrive/Desktop/Project/emotion/val.txt\"\n",
    "test_file = \"C:/Users/Prakash/OneDrive/Desktop/Project/emotion/test.txt\"\n",
    "train = load_data(train_file)\n",
    "val = load_data(val_file)\n",
    "test = load_data(test_file)"
   ]
  },
  {
   "cell_type": "code",
   "execution_count": 9,
   "id": "c55aa1de-c9c4-4a15-b16b-35bfa9298f17",
   "metadata": {},
   "outputs": [],
   "source": [
    "# Split data into tweets and labels\n",
    "def get_tweet(data):\n",
    "    tweets = []\n",
    "    labels = []\n",
    "    for line in data:\n",
    "        tweet, label = line.strip().split(';')\n",
    "        tweets.append(tweet)\n",
    "        labels.append(label)\n",
    "    return tweets, labels"
   ]
  },
  {
   "cell_type": "code",
   "execution_count": 10,
   "id": "9dee8786-8fa0-413e-9253-04949d82dc5e",
   "metadata": {},
   "outputs": [],
   "source": [
    "# Extract tweets and labels\n",
    "tweets, labels = get_tweet(train)\n",
    "val_tweets, val_labels = get_tweet(val)\n",
    "test_tweets, test_labels = get_tweet(test)"
   ]
  },
  {
   "cell_type": "code",
   "execution_count": 11,
   "id": "e723bd40-dacc-436e-8382-c03dc6d37d48",
   "metadata": {},
   "outputs": [],
   "source": [
    "# Tokenize tweets\n",
    "def get_sequences(tokenizer, tweets, maxlen=50):\n",
    "    sequences = tokenizer.texts_to_sequences(tweets)\n",
    "    padded = pad_sequences(sequences, truncating='post', padding='post', maxlen=maxlen)\n",
    "    return padded"
   ]
  },
  {
   "cell_type": "code",
   "execution_count": 12,
   "id": "62bc5b4d-e676-4e65-b7ca-e1057e6d0612",
   "metadata": {},
   "outputs": [],
   "source": [
    "# Tokenize tweets\n",
    "tokenizer = Tokenizer(num_words=10000, oov_token='<UNK>')\n",
    "tokenizer.fit_on_texts(tweets)\n",
    "padded_train_seq = get_sequences(tokenizer, tweets)\n",
    "padded_val_seq = get_sequences(tokenizer, val_tweets)\n",
    "padded_test_seq = get_sequences(tokenizer, test_tweets)"
   ]
  },
  {
   "cell_type": "code",
   "execution_count": 13,
   "id": "1cf09c00-a1bd-4937-a3aa-e69bb698750d",
   "metadata": {},
   "outputs": [],
   "source": [
    "# Create label index mappings\n",
    "classes = set(labels)\n",
    "class_to_index = {c: i for i, c in enumerate(classes)}\n",
    "index_to_class = {i: c for c, i in class_to_index.items()}\n",
    "names_to_ids = lambda labels: np.array([class_to_index.get(x) for x in labels])"
   ]
  },
  {
   "cell_type": "code",
   "execution_count": 14,
   "id": "01d735b3-8354-49d3-bc10-1965d3f03109",
   "metadata": {},
   "outputs": [],
   "source": [
    "# Convert labels to indices\n",
    "train_labels = names_to_ids(labels)\n",
    "val_labels = names_to_ids(val_labels)\n",
    "test_labels = names_to_ids(test_labels)"
   ]
  },
  {
   "cell_type": "code",
   "execution_count": 15,
   "id": "2c145715-44fc-4529-b26f-d1b8cdcaabd7",
   "metadata": {},
   "outputs": [],
   "source": [
    "# Build the model\n",
    "model = tf.keras.models.Sequential([\n",
    "    tf.keras.layers.Embedding(10000, 16),\n",
    "    tf.keras.layers.Bidirectional(tf.keras.layers.LSTM(20, return_sequences=True)),\n",
    "    tf.keras.layers.Bidirectional(tf.keras.layers.LSTM(20)),\n",
    "    tf.keras.layers.Dense(len(classes), activation='softmax')\n",
    "])\n",
    "model.compile(loss='sparse_categorical_crossentropy', optimizer='adam', metrics=['accuracy'])"
   ]
  },
  {
   "cell_type": "code",
   "execution_count": 16,
   "id": "5ace0013-f8b0-4869-bc84-aa0f9d9f43f5",
   "metadata": {},
   "outputs": [
    {
     "name": "stdout",
     "output_type": "stream",
     "text": [
      "Epoch 1/20\n",
      "\u001b[1m500/500\u001b[0m \u001b[32m━━━━━━━━━━━━━━━━━━━━\u001b[0m\u001b[37m\u001b[0m \u001b[1m54s\u001b[0m 81ms/step - accuracy: 0.3537 - loss: 1.5590 - val_accuracy: 0.6500 - val_loss: 0.9772\n",
      "Epoch 2/20\n",
      "\u001b[1m500/500\u001b[0m \u001b[32m━━━━━━━━━━━━━━━━━━━━\u001b[0m\u001b[37m\u001b[0m \u001b[1m39s\u001b[0m 78ms/step - accuracy: 0.7244 - loss: 0.7591 - val_accuracy: 0.7925 - val_loss: 0.6117\n",
      "Epoch 3/20\n",
      "\u001b[1m500/500\u001b[0m \u001b[32m━━━━━━━━━━━━━━━━━━━━\u001b[0m\u001b[37m\u001b[0m \u001b[1m38s\u001b[0m 76ms/step - accuracy: 0.8714 - loss: 0.3854 - val_accuracy: 0.8535 - val_loss: 0.4548\n",
      "Epoch 4/20\n",
      "\u001b[1m500/500\u001b[0m \u001b[32m━━━━━━━━━━━━━━━━━━━━\u001b[0m\u001b[37m\u001b[0m \u001b[1m39s\u001b[0m 77ms/step - accuracy: 0.9209 - loss: 0.2371 - val_accuracy: 0.8730 - val_loss: 0.4022\n",
      "Epoch 5/20\n",
      "\u001b[1m500/500\u001b[0m \u001b[32m━━━━━━━━━━━━━━━━━━━━\u001b[0m\u001b[37m\u001b[0m \u001b[1m39s\u001b[0m 77ms/step - accuracy: 0.9500 - loss: 0.1590 - val_accuracy: 0.8900 - val_loss: 0.3582\n",
      "Epoch 6/20\n",
      "\u001b[1m500/500\u001b[0m \u001b[32m━━━━━━━━━━━━━━━━━━━━\u001b[0m\u001b[37m\u001b[0m \u001b[1m41s\u001b[0m 77ms/step - accuracy: 0.9675 - loss: 0.1072 - val_accuracy: 0.8985 - val_loss: 0.3516\n",
      "Epoch 7/20\n",
      "\u001b[1m500/500\u001b[0m \u001b[32m━━━━━━━━━━━━━━━━━━━━\u001b[0m\u001b[37m\u001b[0m \u001b[1m39s\u001b[0m 78ms/step - accuracy: 0.9758 - loss: 0.0790 - val_accuracy: 0.8950 - val_loss: 0.3701\n",
      "Epoch 8/20\n",
      "\u001b[1m500/500\u001b[0m \u001b[32m━━━━━━━━━━━━━━━━━━━━\u001b[0m\u001b[37m\u001b[0m \u001b[1m39s\u001b[0m 78ms/step - accuracy: 0.9776 - loss: 0.0697 - val_accuracy: 0.8900 - val_loss: 0.3845\n",
      "Epoch 9/20\n",
      "\u001b[1m500/500\u001b[0m \u001b[32m━━━━━━━━━━━━━━━━━━━━\u001b[0m\u001b[37m\u001b[0m \u001b[1m41s\u001b[0m 77ms/step - accuracy: 0.9819 - loss: 0.0567 - val_accuracy: 0.8985 - val_loss: 0.3990\n",
      "Epoch 10/20\n",
      "\u001b[1m500/500\u001b[0m \u001b[32m━━━━━━━━━━━━━━━━━━━━\u001b[0m\u001b[37m\u001b[0m \u001b[1m39s\u001b[0m 78ms/step - accuracy: 0.9838 - loss: 0.0509 - val_accuracy: 0.8930 - val_loss: 0.4240\n",
      "Epoch 11/20\n",
      "\u001b[1m500/500\u001b[0m \u001b[32m━━━━━━━━━━━━━━━━━━━━\u001b[0m\u001b[37m\u001b[0m \u001b[1m41s\u001b[0m 78ms/step - accuracy: 0.9877 - loss: 0.0412 - val_accuracy: 0.9010 - val_loss: 0.3965\n",
      "Epoch 12/20\n",
      "\u001b[1m500/500\u001b[0m \u001b[32m━━━━━━━━━━━━━━━━━━━━\u001b[0m\u001b[37m\u001b[0m \u001b[1m39s\u001b[0m 78ms/step - accuracy: 0.9898 - loss: 0.0339 - val_accuracy: 0.8990 - val_loss: 0.4014\n",
      "Epoch 13/20\n",
      "\u001b[1m500/500\u001b[0m \u001b[32m━━━━━━━━━━━━━━━━━━━━\u001b[0m\u001b[37m\u001b[0m \u001b[1m39s\u001b[0m 77ms/step - accuracy: 0.9910 - loss: 0.0303 - val_accuracy: 0.8995 - val_loss: 0.4100\n",
      "Epoch 14/20\n",
      "\u001b[1m500/500\u001b[0m \u001b[32m━━━━━━━━━━━━━━━━━━━━\u001b[0m\u001b[37m\u001b[0m \u001b[1m39s\u001b[0m 77ms/step - accuracy: 0.9847 - loss: 0.0481 - val_accuracy: 0.8970 - val_loss: 0.3816\n",
      "Epoch 15/20\n",
      "\u001b[1m500/500\u001b[0m \u001b[32m━━━━━━━━━━━━━━━━━━━━\u001b[0m\u001b[37m\u001b[0m \u001b[1m38s\u001b[0m 76ms/step - accuracy: 0.9880 - loss: 0.0352 - val_accuracy: 0.8750 - val_loss: 0.4886\n",
      "Epoch 16/20\n",
      "\u001b[1m500/500\u001b[0m \u001b[32m━━━━━━━━━━━━━━━━━━━━\u001b[0m\u001b[37m\u001b[0m \u001b[1m38s\u001b[0m 76ms/step - accuracy: 0.9870 - loss: 0.0395 - val_accuracy: 0.8990 - val_loss: 0.4358\n",
      "Epoch 17/20\n",
      "\u001b[1m500/500\u001b[0m \u001b[32m━━━━━━━━━━━━━━━━━━━━\u001b[0m\u001b[37m\u001b[0m \u001b[1m41s\u001b[0m 76ms/step - accuracy: 0.9929 - loss: 0.0219 - val_accuracy: 0.8950 - val_loss: 0.4772\n",
      "Epoch 18/20\n",
      "\u001b[1m500/500\u001b[0m \u001b[32m━━━━━━━━━━━━━━━━━━━━\u001b[0m\u001b[37m\u001b[0m \u001b[1m38s\u001b[0m 75ms/step - accuracy: 0.9935 - loss: 0.0198 - val_accuracy: 0.8990 - val_loss: 0.4097\n",
      "Epoch 19/20\n",
      "\u001b[1m500/500\u001b[0m \u001b[32m━━━━━━━━━━━━━━━━━━━━\u001b[0m\u001b[37m\u001b[0m \u001b[1m41s\u001b[0m 75ms/step - accuracy: 0.9918 - loss: 0.0199 - val_accuracy: 0.8985 - val_loss: 0.4613\n",
      "Epoch 20/20\n",
      "\u001b[1m500/500\u001b[0m \u001b[32m━━━━━━━━━━━━━━━━━━━━\u001b[0m\u001b[37m\u001b[0m \u001b[1m38s\u001b[0m 76ms/step - accuracy: 0.9932 - loss: 0.0184 - val_accuracy: 0.9005 - val_loss: 0.4825\n"
     ]
    }
   ],
   "source": [
    "# Train the model\n",
    "h = model.fit(padded_train_seq, train_labels, validation_data=(padded_val_seq, val_labels), epochs=20)"
   ]
  },
  {
   "cell_type": "code",
   "execution_count": 17,
   "id": "d6d75b26-15c7-427e-b130-5ea9cc687e2d",
   "metadata": {},
   "outputs": [],
   "source": [
    "# Function to predict emotion from the command line\n",
    "def predict_emotion():\n",
    "    while True:\n",
    "        sentence = input(\"Enter a sentence (0 to quit): \")\n",
    "        if sentence == \"0\":\n",
    "            break\n",
    "        if sentence == \"\":\n",
    "            print(\"Enter the Sentence..!!\")\n",
    "            continue\n",
    "        seq = tokenizer.texts_to_sequences([sentence])\n",
    "        seq = pad_sequences(seq, maxlen=50, padding='post')\n",
    "        p = model.predict(seq)[0]\n",
    "        pred_class = index_to_class[np.argmax(p).astype('uint8')].capitalize()\n",
    "        print(f\"Predicted emotion: {pred_class}\")"
   ]
  },
  {
   "cell_type": "code",
   "execution_count": null,
   "id": "583c7cf2-ac6f-4ff9-994e-a70b07175331",
   "metadata": {},
   "outputs": [
    {
     "name": "stdin",
     "output_type": "stream",
     "text": [
      "Enter a sentence (0 to quit):  i want sex now\n"
     ]
    },
    {
     "name": "stdout",
     "output_type": "stream",
     "text": [
      "\u001b[1m1/1\u001b[0m \u001b[32m━━━━━━━━━━━━━━━━━━━━\u001b[0m\u001b[37m\u001b[0m \u001b[1m0s\u001b[0m 68ms/step\n",
      "Predicted emotion: Sadness\n"
     ]
    },
    {
     "name": "stdin",
     "output_type": "stream",
     "text": [
      "Enter a sentence (0 to quit):  it was a wonderful journey with pwc launchpad event\n"
     ]
    },
    {
     "name": "stdout",
     "output_type": "stream",
     "text": [
      "\u001b[1m1/1\u001b[0m \u001b[32m━━━━━━━━━━━━━━━━━━━━\u001b[0m\u001b[37m\u001b[0m \u001b[1m0s\u001b[0m 69ms/step\n",
      "Predicted emotion: Fear\n"
     ]
    },
    {
     "name": "stdin",
     "output_type": "stream",
     "text": [
      "Enter a sentence (0 to quit):  it was a wonderful day\n"
     ]
    },
    {
     "name": "stdout",
     "output_type": "stream",
     "text": [
      "\u001b[1m1/1\u001b[0m \u001b[32m━━━━━━━━━━━━━━━━━━━━\u001b[0m\u001b[37m\u001b[0m \u001b[1m0s\u001b[0m 71ms/step\n",
      "Predicted emotion: Joy\n"
     ]
    },
    {
     "name": "stdin",
     "output_type": "stream",
     "text": [
      "Enter a sentence (0 to quit):  it was a wonderful journey\n"
     ]
    },
    {
     "name": "stdout",
     "output_type": "stream",
     "text": [
      "\u001b[1m1/1\u001b[0m \u001b[32m━━━━━━━━━━━━━━━━━━━━\u001b[0m\u001b[37m\u001b[0m \u001b[1m0s\u001b[0m 73ms/step\n",
      "Predicted emotion: Joy\n"
     ]
    },
    {
     "name": "stdin",
     "output_type": "stream",
     "text": [
      "Enter a sentence (0 to quit):  it was a wonderful journey with chandru\n"
     ]
    },
    {
     "name": "stdout",
     "output_type": "stream",
     "text": [
      "\u001b[1m1/1\u001b[0m \u001b[32m━━━━━━━━━━━━━━━━━━━━\u001b[0m\u001b[37m\u001b[0m \u001b[1m0s\u001b[0m 67ms/step\n",
      "Predicted emotion: Joy\n"
     ]
    },
    {
     "name": "stdin",
     "output_type": "stream",
     "text": [
      "Enter a sentence (0 to quit):  it was a wonderful journey with pwc launchpad event\n"
     ]
    },
    {
     "name": "stdout",
     "output_type": "stream",
     "text": [
      "\u001b[1m1/1\u001b[0m \u001b[32m━━━━━━━━━━━━━━━━━━━━\u001b[0m\u001b[37m\u001b[0m \u001b[1m0s\u001b[0m 84ms/step\n",
      "Predicted emotion: Fear\n"
     ]
    }
   ],
   "source": [
    "# Start the prediction loop\n",
    "predict_emotion()"
   ]
  },
  {
   "cell_type": "code",
   "execution_count": null,
   "id": "65a02de4-a3a8-4c3d-83f7-d95483b65834",
   "metadata": {},
   "outputs": [],
   "source": []
  }
 ],
 "metadata": {
  "kernelspec": {
   "display_name": "Python 3 (ipykernel)",
   "language": "python",
   "name": "python3"
  },
  "language_info": {
   "codemirror_mode": {
    "name": "ipython",
    "version": 3
   },
   "file_extension": ".py",
   "mimetype": "text/x-python",
   "name": "python",
   "nbconvert_exporter": "python",
   "pygments_lexer": "ipython3",
   "version": "3.10.0"
  }
 },
 "nbformat": 4,
 "nbformat_minor": 5
}
